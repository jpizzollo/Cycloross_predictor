{
 "cells": [
  {
   "cell_type": "code",
   "execution_count": 1,
   "metadata": {},
   "outputs": [],
   "source": [
    "from bs4 import BeautifulSoup\n",
    "import requests\n",
    "import time, os\n",
    "import pickle\n",
    "\n",
    "import re"
   ]
  },
  {
   "cell_type": "markdown",
   "metadata": {},
   "source": [
    "## Scrape race URLs"
   ]
  },
  {
   "cell_type": "code",
   "execution_count": 5,
   "metadata": {},
   "outputs": [
    {
     "name": "stdout",
     "output_type": "stream",
     "text": [
      "200\n"
     ]
    }
   ],
   "source": [
    "# Open main results page, capture the html\n",
    "URL = \"https://www.crossresults.com/?n=results&map=0&region=all\"\n",
    "response = requests.get(URL)\n",
    "print(response.status_code)\n",
    "page = response.text\n",
    "soup = BeautifulSoup(page,'lxml')"
   ]
  },
  {
   "cell_type": "code",
   "execution_count": 43,
   "metadata": {},
   "outputs": [],
   "source": [
    "# race data get appeneded to each of 4 lists\n",
    "race_path = []\n",
    "race_name = []\n",
    "race_date = []\n",
    "race_region = []\n",
    "\n",
    "# pull race path, name, date and region. \n",
    "# divs belong to 2 classes. Go through each for every month of races\n",
    "for div in soup.find_all(class_=\"monthContent\"):\n",
    "    for tr in div.find_all(class_=\"resultsrow datarow1\"):\n",
    "        race_path.append(tr.find('a').get('href'))\n",
    "        race_name.append(tr.find('a').text)\n",
    "        race_date.append(tr.find('a').findNext().text)\n",
    "        race_region.append(tr.find('a').findNext().findNext().text)\n",
    "    for tr in div.find_all(class_=\"resultsrow datarow2\"):\n",
    "        race_path.append(tr.find('a').get('href'))\n",
    "        race_name.append(tr.find('a').text)\n",
    "        race_date.append(tr.find('a').findNext().text)\n",
    "        race_region.append(tr.find('a').findNext().findNext().text)\n"
   ]
  },
  {
   "cell_type": "code",
   "execution_count": 44,
   "metadata": {},
   "outputs": [
    {
     "name": "stdout",
     "output_type": "stream",
     "text": [
      "9489\n",
      "9489\n",
      "9489\n",
      "9489\n"
     ]
    }
   ],
   "source": [
    "# Make sure they all have the same number of items\n",
    "print(len(race_path))\n",
    "print(len(race_name))\n",
    "print(len(race_date))\n",
    "print(len(race_region))"
   ]
  },
  {
   "cell_type": "code",
   "execution_count": 51,
   "metadata": {},
   "outputs": [],
   "source": [
    "# We only want races in the US\n",
    "US_regions = ['California', 'Mid Atlantic', 'Mountain West', \n",
    "              'New England', 'New York/Ontario', 'North Central', \n",
    "              'Pacific Northwest', 'South Central', 'Southeast']\n",
    "\n",
    "# These IDs are for US races\n",
    "US_ids = []\n",
    "\n",
    "# Find if region is in the US, save ID if so\n",
    "for idx, region in enumerate(race_region):\n",
    "    if region in US_regions:\n",
    "        US_ids.append(idx)\n",
    "\n",
    "# Update lists to only include US races\n",
    "race_path = [race_path[i] for i in US_ids]\n",
    "race_name = [race_name[i] for i in US_ids]\n",
    "race_date = [race_date[i] for i in US_ids]\n",
    "race_region = [race_region[i] for i in US_ids]"
   ]
  },
  {
   "cell_type": "code",
   "execution_count": 55,
   "metadata": {},
   "outputs": [],
   "source": [
    "# Put the data into one object\n",
    "races = [race_path, race_name, race_date, race_region]"
   ]
  },
  {
   "cell_type": "code",
   "execution_count": 56,
   "metadata": {},
   "outputs": [],
   "source": [
    "# Pickle the race data\n",
    "with open('races.pickle', 'wb') as to_write:\n",
    "    pickle.dump(races, to_write)"
   ]
  },
  {
   "cell_type": "code",
   "execution_count": 57,
   "metadata": {},
   "outputs": [
    {
     "data": {
      "text/plain": [
       "'/race/10159'"
      ]
     },
     "execution_count": 57,
     "metadata": {},
     "output_type": "execute_result"
    }
   ],
   "source": [
    "race_path[0]"
   ]
  },
  {
   "cell_type": "code",
   "execution_count": null,
   "metadata": {},
   "outputs": [],
   "source": []
  },
  {
   "cell_type": "code",
   "execution_count": null,
   "metadata": {},
   "outputs": [],
   "source": []
  },
  {
   "cell_type": "markdown",
   "metadata": {},
   "source": [
    "## Scrape data from each race"
   ]
  },
  {
   "cell_type": "code",
   "execution_count": null,
   "metadata": {},
   "outputs": [],
   "source": [
    "# Read in the race data\n",
    "with open('races.pickle','rb') as read_file:\n",
    "    races = pickle.load(read_file)"
   ]
  },
  {
   "cell_type": "code",
   "execution_count": null,
   "metadata": {},
   "outputs": [],
   "source": []
  },
  {
   "cell_type": "code",
   "execution_count": null,
   "metadata": {},
   "outputs": [],
   "source": []
  },
  {
   "cell_type": "code",
   "execution_count": 3,
   "metadata": {},
   "outputs": [
    {
     "name": "stdout",
     "output_type": "stream",
     "text": [
      "200\n"
     ]
    }
   ],
   "source": [
    "# Open each race page, capture the html\n",
    "path = '/race/10159'\n",
    "URL = 'https://www.crossresults.com' + path\n",
    "response = requests.get(URL)\n",
    "print(response.status_code)\n",
    "page = response.text\n",
    "soup = BeautifulSoup(page,'lxml')"
   ]
  },
  {
   "cell_type": "code",
   "execution_count": null,
   "metadata": {},
   "outputs": [],
   "source": [
    "\"\n",
    "# Things to collect\n",
    "#Name, Date, Location\n",
    "#Latitude and Longitude\n",
    "#Beers, Moisture, Accel, Tech, Elevation\n",
    "#weather, temperature, wind\n",
    "results\n",
    "\""
   ]
  },
  {
   "cell_type": "code",
   "execution_count": 136,
   "metadata": {},
   "outputs": [
    {
     "data": {
      "text/plain": [
       "'Green Cove Springs, FL'"
      ]
     },
     "execution_count": 136,
     "metadata": {},
     "output_type": "execute_result"
    }
   ],
   "source": [
    "# Race info\n",
    "main = soup.find(\"div\", {\"id\": \"resultstitle\"}).text.split(' • ')\n",
    "\n",
    "# Race Name\n",
    "main[0]\n",
    "\n",
    "# Race date\n",
    "main[1].split()\n",
    "\n",
    "# Race location\n",
    "main[2].split('\\r')[0].strip()"
   ]
  },
  {
   "cell_type": "code",
   "execution_count": 138,
   "metadata": {},
   "outputs": [
    {
     "data": {
      "text/plain": [
       "'2.4'"
      ]
     },
     "execution_count": 138,
     "metadata": {},
     "output_type": "execute_result"
    }
   ],
   "source": [
    "# Race rating\n",
    "\n",
    "# Beers\n",
    "soup.find(\"div\", {\"class\": \"beerrating rating\"}).text.split()[0]\n",
    "\n",
    "# Moisture\n",
    "soup.find(\"div\", {\"class\": \"moisturerating rating\"}).text.split()[0]\n",
    "\n",
    "# Accel\n",
    "soup.find(\"div\", {\"class\": \"accelrating rating\"}).text.split()[0]\n",
    "\n",
    "# Tech\n",
    "soup.find(\"div\", {\"class\": \"techrating rating\"}).text.split()[0]\n",
    "\n",
    "# Elevation\n",
    "soup.find(\"div\", {\"class\": \"elevationrating rating\"}).text.split()[0]\n"
   ]
  },
  {
   "cell_type": "code",
   "execution_count": 41,
   "metadata": {},
   "outputs": [
    {
     "data": {
      "text/plain": [
       "'4'"
      ]
     },
     "execution_count": 41,
     "metadata": {},
     "output_type": "execute_result"
    }
   ],
   "source": [
    "# Conditions\n",
    "conditions = soup.find(\"div\", {\"id\": \"resultstitle\"}).text.strip().split('\\n')[-1].strip()\n",
    "\n",
    "# Weather\n",
    "conditions.split(',')[0]\n",
    "\n",
    "# Temperature\n",
    "conditions.split(',')[1].strip().split()[0]\n",
    "\n",
    "# Wind\n",
    "conditions.split(',')[2].strip().split()[1]"
   ]
  },
  {
   "cell_type": "code",
   "execution_count": 40,
   "metadata": {},
   "outputs": [
    {
     "data": {
      "text/plain": [
       "'29.9884166717529:-81.6820068359375'"
      ]
     },
     "execution_count": 40,
     "metadata": {},
     "output_type": "execute_result"
    }
   ],
   "source": [
    "# extract script tag to get lat and lon\n",
    "script = soup.find('article', {'id': 'content'}).find('script', {'type': 'text/javascript'})\n",
    "\n",
    "# pull out the lat and lon\n",
    "pattern = re.compile('GetMap\\(\\\"(.*?)\"')\n",
    "re.findall(pattern, script.string)[0]"
   ]
  },
  {
   "cell_type": "code",
   "execution_count": null,
   "metadata": {},
   "outputs": [],
   "source": []
  },
  {
   "cell_type": "code",
   "execution_count": null,
   "metadata": {},
   "outputs": [],
   "source": []
  },
  {
   "cell_type": "code",
   "execution_count": 28,
   "metadata": {},
   "outputs": [],
   "source": []
  },
  {
   "cell_type": "code",
   "execution_count": null,
   "metadata": {},
   "outputs": [],
   "source": []
  },
  {
   "cell_type": "code",
   "execution_count": null,
   "metadata": {},
   "outputs": [],
   "source": []
  },
  {
   "cell_type": "code",
   "execution_count": null,
   "metadata": {},
   "outputs": [],
   "source": []
  }
 ],
 "metadata": {
  "kernelspec": {
   "display_name": "Python 3",
   "language": "python",
   "name": "python3"
  },
  "language_info": {
   "codemirror_mode": {
    "name": "ipython",
    "version": 3
   },
   "file_extension": ".py",
   "mimetype": "text/x-python",
   "name": "python",
   "nbconvert_exporter": "python",
   "pygments_lexer": "ipython3",
   "version": "3.8.3"
  }
 },
 "nbformat": 4,
 "nbformat_minor": 4
}
