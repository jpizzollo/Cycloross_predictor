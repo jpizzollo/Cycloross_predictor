{
 "cells": [
  {
   "cell_type": "code",
   "execution_count": 3,
   "metadata": {},
   "outputs": [],
   "source": [
    "from bs4 import BeautifulSoup\n",
    "import requests\n",
    "import time, os\n",
    "import pickle\n",
    "import re\n",
    "import io\n",
    "import pandas as pd\n",
    "import numpy as np\n",
    "from datetime import datetime"
   ]
  },
  {
   "cell_type": "code",
   "execution_count": null,
   "metadata": {},
   "outputs": [],
   "source": [
    "from google.colab import drive\n",
    "drive.mount('drive')"
   ]
  },
  {
   "cell_type": "markdown",
   "metadata": {},
   "source": [
    "## Scrape race URLs"
   ]
  },
  {
   "cell_type": "code",
   "execution_count": null,
   "metadata": {},
   "outputs": [],
   "source": [
    "# Open main results page, capture the html\n",
    "URL = \"https://www.crossresults.com/?n=results&map=0&region=all\"\n",
    "response = requests.get(URL)\n",
    "print(response.status_code)\n",
    "soup = BeautifulSoup(response.text,'lxml')"
   ]
  },
  {
   "cell_type": "code",
   "execution_count": null,
   "metadata": {},
   "outputs": [],
   "source": [
    "# race data get appeneded to each of 4 lists\n",
    "race_path = []\n",
    "race_name = []\n",
    "race_date = []\n",
    "race_region = []\n",
    "\n",
    "# pull race path, name, date and region. \n",
    "# divs belong to 2 classes. Go through each for every month of races\n",
    "for div in soup.find_all(class_=\"monthContent\"):\n",
    "    for tr in div.find_all(class_=\"resultsrow datarow1\"):\n",
    "        race_path.append(tr.find('a').get('href'))\n",
    "        race_name.append(tr.find('a').text)\n",
    "        race_date.append(tr.find('a').findNext().text)\n",
    "        race_region.append(tr.find('a').findNext().findNext().text)\n",
    "    for tr in div.find_all(class_=\"resultsrow datarow2\"):\n",
    "        race_path.append(tr.find('a').get('href'))\n",
    "        race_name.append(tr.find('a').text)\n",
    "        race_date.append(tr.find('a').findNext().text)\n",
    "        race_region.append(tr.find('a').findNext().findNext().text)"
   ]
  },
  {
   "cell_type": "code",
   "execution_count": null,
   "metadata": {},
   "outputs": [],
   "source": [
    "# We only want races in the US\n",
    "US_regions = ['California', 'Mid Atlantic', 'Mountain West', \n",
    "              'New England', 'New York/Ontario', 'North Central', \n",
    "              'Pacific Northwest', 'South Central', 'Southeast']\n",
    "\n",
    "# These IDs are for US races\n",
    "US_ids = []\n",
    "\n",
    "# Find if region is in the US, save ID if so\n",
    "for idx, region in enumerate(race_region):\n",
    "    if region in US_regions:\n",
    "        US_ids.append(idx)\n",
    "\n",
    "# Update lists to only include US races\n",
    "race_path = [race_path[i] for i in US_ids]\n",
    "race_name = [race_name[i] for i in US_ids]\n",
    "race_date = [race_date[i] for i in US_ids]\n",
    "race_region = [race_region[i] for i in US_ids]"
   ]
  },
  {
   "cell_type": "code",
   "execution_count": null,
   "metadata": {},
   "outputs": [],
   "source": [
    "# Put the data into one object\n",
    "races = [race_path, race_name, race_date, race_region]"
   ]
  },
  {
   "cell_type": "code",
   "execution_count": null,
   "metadata": {},
   "outputs": [],
   "source": [
    "# Pickle the race data\n",
    "with open('drive/MyDrive/Colab/races.pickle', 'wb') as to_write:\n",
    "    pickle.dump(races, to_write)"
   ]
  }
 ],
 "metadata": {
  "kernelspec": {
   "display_name": "Python 3",
   "language": "python",
   "name": "python3"
  },
  "language_info": {
   "codemirror_mode": {
    "name": "ipython",
    "version": 3
   },
   "file_extension": ".py",
   "mimetype": "text/x-python",
   "name": "python",
   "nbconvert_exporter": "python",
   "pygments_lexer": "ipython3",
   "version": "3.8.3"
  }
 },
 "nbformat": 4,
 "nbformat_minor": 4
}
